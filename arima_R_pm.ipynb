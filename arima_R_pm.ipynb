{
 "cells": [
  {
   "cell_type": "code",
   "execution_count": null,
   "id": "91ab8074",
   "metadata": {},
   "outputs": [
    {
     "name": "stderr",
     "output_type": "stream",
     "text": [
      "also installing the dependencies ‘SparseM’, ‘RcppEigen’, ‘hts’, ‘thief’, ‘doParallel’, ‘gridExtra’, ‘BH’, ‘forecastHybrid’, ‘tsibble’, ‘viridis’, ‘padr’, ‘anytime’\n",
      "\n",
      "\n",
      "Warning message in install.packages(new.packages):\n",
      "“installation of package ‘RcppEigen’ had non-zero exit status”\n",
      "Warning message in install.packages(new.packages):\n",
      "“installation of package ‘gridExtra’ had non-zero exit status”\n"
     ]
    }
   ],
   "source": [
    "# Packages\n",
    "list.of.packages <- c(\"rstudioapi\", \"dplyr\", \"astsa\", \"zoo\", \"forecast\", \"ggplot2\", \"plotly\", \"tseries\", \n",
    "                      \"lubridate\", \"TSstudio\", \"sweep\", \"timetk\", \"tidyverse\")\n",
    "new.packages <- list.of.packages[!(list.of.packages %in% installed.packages()[,\"Package\"])]\n",
    "if(length(new.packages)) install.packages(new.packages)"
   ]
  },
  {
   "cell_type": "code",
   "execution_count": 1,
   "id": "bc7636ce",
   "metadata": {},
   "outputs": [
    {
     "name": "stderr",
     "output_type": "stream",
     "text": [
      "Loading required package: rstudioapi\n",
      "\n",
      "Loading required package: dplyr\n",
      "\n",
      "\n",
      "Attaching package: ‘dplyr’\n",
      "\n",
      "\n",
      "The following objects are masked from ‘package:stats’:\n",
      "\n",
      "    filter, lag\n",
      "\n",
      "\n",
      "The following objects are masked from ‘package:base’:\n",
      "\n",
      "    intersect, setdiff, setequal, union\n",
      "\n",
      "\n",
      "Loading required package: astsa\n",
      "\n",
      "Loading required package: zoo\n",
      "\n",
      "\n",
      "Attaching package: ‘zoo’\n",
      "\n",
      "\n",
      "The following objects are masked from ‘package:base’:\n",
      "\n",
      "    as.Date, as.Date.numeric\n",
      "\n",
      "\n",
      "Loading required package: forecast\n",
      "\n",
      "Registered S3 method overwritten by 'quantmod':\n",
      "  method            from\n",
      "  as.zoo.data.frame zoo \n",
      "\n",
      "\n",
      "Attaching package: ‘forecast’\n",
      "\n",
      "\n",
      "The following object is masked from ‘package:astsa’:\n",
      "\n",
      "    gas\n",
      "\n",
      "\n",
      "Loading required package: ggplot2\n",
      "\n",
      "Loading required package: plotly\n",
      "\n",
      "\n",
      "Attaching package: ‘plotly’\n",
      "\n",
      "\n",
      "The following object is masked from ‘package:ggplot2’:\n",
      "\n",
      "    last_plot\n",
      "\n",
      "\n",
      "The following object is masked from ‘package:stats’:\n",
      "\n",
      "    filter\n",
      "\n",
      "\n",
      "The following object is masked from ‘package:graphics’:\n",
      "\n",
      "    layout\n",
      "\n",
      "\n",
      "Loading required package: tseries\n",
      "\n",
      "Loading required package: lubridate\n",
      "\n",
      "\n",
      "Attaching package: ‘lubridate’\n",
      "\n",
      "\n",
      "The following objects are masked from ‘package:base’:\n",
      "\n",
      "    date, intersect, setdiff, union\n",
      "\n",
      "\n",
      "Loading required package: TSstudio\n",
      "\n",
      "Loading required package: xts\n",
      "\n",
      "\n",
      "Attaching package: ‘xts’\n",
      "\n",
      "\n",
      "The following objects are masked from ‘package:dplyr’:\n",
      "\n",
      "    first, last\n",
      "\n",
      "\n",
      "Loading required package: sweep\n",
      "\n",
      "Registered S3 method overwritten by 'tune':\n",
      "  method                   from   \n",
      "  required_pkgs.model_spec parsnip\n",
      "\n",
      "Loading required package: timetk\n",
      "\n",
      "Loading required package: tidyverse\n",
      "\n",
      "── \u001b[1mAttaching packages\u001b[22m ─────────────────────────────────────── tidyverse 1.3.1 ──\n",
      "\n",
      "\u001b[32m✔\u001b[39m \u001b[34mtibble \u001b[39m 3.1.6     \u001b[32m✔\u001b[39m \u001b[34mpurrr  \u001b[39m 0.3.4\n",
      "\u001b[32m✔\u001b[39m \u001b[34mtidyr  \u001b[39m 1.1.4     \u001b[32m✔\u001b[39m \u001b[34mstringr\u001b[39m 1.4.0\n",
      "\u001b[32m✔\u001b[39m \u001b[34mreadr  \u001b[39m 2.1.0     \u001b[32m✔\u001b[39m \u001b[34mforcats\u001b[39m 0.5.1\n",
      "\n",
      "── \u001b[1mConflicts\u001b[22m ────────────────────────────────────────── tidyverse_conflicts() ──\n",
      "\u001b[31m✖\u001b[39m \u001b[34mlubridate\u001b[39m::\u001b[32mas.difftime()\u001b[39m masks \u001b[34mbase\u001b[39m::as.difftime()\n",
      "\u001b[31m✖\u001b[39m \u001b[34mlubridate\u001b[39m::\u001b[32mdate()\u001b[39m        masks \u001b[34mbase\u001b[39m::date()\n",
      "\u001b[31m✖\u001b[39m \u001b[34mplotly\u001b[39m::\u001b[32mfilter()\u001b[39m         masks \u001b[34mdplyr\u001b[39m::filter(), \u001b[34mstats\u001b[39m::filter()\n",
      "\u001b[31m✖\u001b[39m \u001b[34mxts\u001b[39m::\u001b[32mfirst()\u001b[39m             masks \u001b[34mdplyr\u001b[39m::first()\n",
      "\u001b[31m✖\u001b[39m \u001b[34mlubridate\u001b[39m::\u001b[32mintersect()\u001b[39m   masks \u001b[34mbase\u001b[39m::intersect()\n",
      "\u001b[31m✖\u001b[39m \u001b[34mdplyr\u001b[39m::\u001b[32mlag()\u001b[39m             masks \u001b[34mstats\u001b[39m::lag()\n",
      "\u001b[31m✖\u001b[39m \u001b[34mxts\u001b[39m::\u001b[32mlast()\u001b[39m              masks \u001b[34mdplyr\u001b[39m::last()\n",
      "\u001b[31m✖\u001b[39m \u001b[34mlubridate\u001b[39m::\u001b[32msetdiff()\u001b[39m     masks \u001b[34mbase\u001b[39m::setdiff()\n",
      "\u001b[31m✖\u001b[39m \u001b[34mlubridate\u001b[39m::\u001b[32munion()\u001b[39m       masks \u001b[34mbase\u001b[39m::union()\n",
      "\n"
     ]
    }
   ],
   "source": [
    "require(\"rstudioapi\")\n",
    "require(\"dplyr\")\n",
    "require(\"astsa\")\n",
    "require(\"zoo\")\n",
    "require(\"forecast\")\n",
    "require(\"ggplot2\")\n",
    "require(\"plotly\")\n",
    "require(\"tseries\")\n",
    "require(\"lubridate\")\n",
    "require(\"TSstudio\")\n",
    "require(\"xts\")\n",
    "require(\"sweep\")\n",
    "require(\"timetk\")\n",
    "require(\"tidyverse\")"
   ]
  },
  {
   "cell_type": "code",
   "execution_count": 2,
   "id": "ae3e46d1",
   "metadata": {},
   "outputs": [],
   "source": [
    "#Load folders\n",
    "#lpd <- file.path(\"../Data/Lastprofildaten\")\n",
    "#wasser <- file.path(\"../Data/Wasserdaten\")\n",
    "#wetter <- file.path(\"../Data/Wetterdaten\")\n",
    "output <- file.path(\"../Data/Outputdaten\")\n",
    "forecast <- file.path(\"../Data/Forecast\")\n",
    "\n",
    "#Load dataframes from pickle\n",
    "mm_all <- read.csv2(file.path(output, \"mm_all.csv\"))\n",
    "pm_all <- read.csv2(file.path(output, \"pm_all.csv\"))\n",
    "tm_all <- read.csv2(file.path(output, \"tm_all.csv\"))"
   ]
  },
  {
   "cell_type": "code",
   "execution_count": 3,
   "id": "3aa2fe11",
   "metadata": {},
   "outputs": [],
   "source": [
    "# Load dataframes only kw data and make type transformations\n",
    "mm_kw <- mm_all[, c('timestamp', 'kw')]\n",
    "pm_kw <- pm_all[, c('timestamp', 'kw')]\n",
    "tm_kw <- tm_all[, c('timestamp', 'kw')]\n",
    "\n",
    "mm_kw$kw <- as.numeric(mm_kw$kw)\n",
    "pm_kw$kw <- as.numeric(pm_kw$kw)\n",
    "tm_kw$kw <- as.numeric(tm_kw$kw)\n",
    "\n",
    "mm_kw$timestamp <- as.POSIXct(mm_kw$timestamp, format = '%Y-%m-%d %H:%M:%S')\n",
    "pm_kw$timestamp <- as.POSIXct(pm_kw$timestamp, format = '%Y-%m-%d %H:%M:%S')\n",
    "tm_kw$timestamp <- as.POSIXct(tm_kw$timestamp, format = '%Y-%m-%d %H:%M:%S')"
   ]
  },
  {
   "cell_type": "code",
   "execution_count": 4,
   "id": "6e32e474",
   "metadata": {},
   "outputs": [
    {
     "data": {
      "text/html": [
       "<table class=\"dataframe\">\n",
       "<caption>A data.frame: 9 × 2</caption>\n",
       "<thead>\n",
       "\t<tr><th></th><th scope=col>timestamp</th><th scope=col>kw</th></tr>\n",
       "\t<tr><th></th><th scope=col>&lt;dttm&gt;</th><th scope=col>&lt;dbl&gt;</th></tr>\n",
       "</thead>\n",
       "<tbody>\n",
       "\t<tr><th scope=row>6483</th><td>2010-03-28 02:00:00</td><td>NA</td></tr>\n",
       "\t<tr><th scope=row>15219</th><td>2011-03-27 02:00:00</td><td>NA</td></tr>\n",
       "\t<tr><th scope=row>23955</th><td>2012-03-25 02:00:00</td><td>NA</td></tr>\n",
       "\t<tr><th scope=row>32859</th><td>2013-03-31 02:00:00</td><td>NA</td></tr>\n",
       "\t<tr><th scope=row>41595</th><td>2014-03-30 02:00:00</td><td>NA</td></tr>\n",
       "\t<tr><th scope=row>45819</th><td>2018-03-25 02:00:00</td><td>NA</td></tr>\n",
       "\t<tr><th scope=row>54723</th><td>2019-03-31 02:00:00</td><td>NA</td></tr>\n",
       "\t<tr><th scope=row>63459</th><td>2020-03-29 02:00:00</td><td>NA</td></tr>\n",
       "\t<tr><th scope=row>72195</th><td>2021-03-28 02:00:00</td><td>NA</td></tr>\n",
       "</tbody>\n",
       "</table>\n"
      ],
      "text/latex": [
       "A data.frame: 9 × 2\n",
       "\\begin{tabular}{r|ll}\n",
       "  & timestamp & kw\\\\\n",
       "  & <dttm> & <dbl>\\\\\n",
       "\\hline\n",
       "\t6483 & 2010-03-28 02:00:00 & NA\\\\\n",
       "\t15219 & 2011-03-27 02:00:00 & NA\\\\\n",
       "\t23955 & 2012-03-25 02:00:00 & NA\\\\\n",
       "\t32859 & 2013-03-31 02:00:00 & NA\\\\\n",
       "\t41595 & 2014-03-30 02:00:00 & NA\\\\\n",
       "\t45819 & 2018-03-25 02:00:00 & NA\\\\\n",
       "\t54723 & 2019-03-31 02:00:00 & NA\\\\\n",
       "\t63459 & 2020-03-29 02:00:00 & NA\\\\\n",
       "\t72195 & 2021-03-28 02:00:00 & NA\\\\\n",
       "\\end{tabular}\n"
      ],
      "text/markdown": [
       "\n",
       "A data.frame: 9 × 2\n",
       "\n",
       "| <!--/--> | timestamp &lt;dttm&gt; | kw &lt;dbl&gt; |\n",
       "|---|---|---|\n",
       "| 6483 | 2010-03-28 02:00:00 | NA |\n",
       "| 15219 | 2011-03-27 02:00:00 | NA |\n",
       "| 23955 | 2012-03-25 02:00:00 | NA |\n",
       "| 32859 | 2013-03-31 02:00:00 | NA |\n",
       "| 41595 | 2014-03-30 02:00:00 | NA |\n",
       "| 45819 | 2018-03-25 02:00:00 | NA |\n",
       "| 54723 | 2019-03-31 02:00:00 | NA |\n",
       "| 63459 | 2020-03-29 02:00:00 | NA |\n",
       "| 72195 | 2021-03-28 02:00:00 | NA |\n",
       "\n"
      ],
      "text/plain": [
       "      timestamp           kw\n",
       "6483  2010-03-28 02:00:00 NA\n",
       "15219 2011-03-27 02:00:00 NA\n",
       "23955 2012-03-25 02:00:00 NA\n",
       "32859 2013-03-31 02:00:00 NA\n",
       "41595 2014-03-30 02:00:00 NA\n",
       "45819 2018-03-25 02:00:00 NA\n",
       "54723 2019-03-31 02:00:00 NA\n",
       "63459 2020-03-29 02:00:00 NA\n",
       "72195 2021-03-28 02:00:00 NA"
      ]
     },
     "metadata": {},
     "output_type": "display_data"
    },
    {
     "data": {
      "text/html": [
       "<table class=\"dataframe\">\n",
       "<caption>A data.frame: 4 × 2</caption>\n",
       "<thead>\n",
       "\t<tr><th></th><th scope=col>timestamp</th><th scope=col>kw</th></tr>\n",
       "\t<tr><th></th><th scope=col>&lt;dttm&gt;</th><th scope=col>&lt;dbl&gt;</th></tr>\n",
       "</thead>\n",
       "<tbody>\n",
       "\t<tr><th scope=row>1995</th><td>2018-03-25 02:00:00</td><td>NA</td></tr>\n",
       "\t<tr><th scope=row>10899</th><td>2019-03-31 02:00:00</td><td>NA</td></tr>\n",
       "\t<tr><th scope=row>19635</th><td>2020-03-29 02:00:00</td><td>NA</td></tr>\n",
       "\t<tr><th scope=row>28371</th><td>2021-03-28 02:00:00</td><td>NA</td></tr>\n",
       "</tbody>\n",
       "</table>\n"
      ],
      "text/latex": [
       "A data.frame: 4 × 2\n",
       "\\begin{tabular}{r|ll}\n",
       "  & timestamp & kw\\\\\n",
       "  & <dttm> & <dbl>\\\\\n",
       "\\hline\n",
       "\t1995 & 2018-03-25 02:00:00 & NA\\\\\n",
       "\t10899 & 2019-03-31 02:00:00 & NA\\\\\n",
       "\t19635 & 2020-03-29 02:00:00 & NA\\\\\n",
       "\t28371 & 2021-03-28 02:00:00 & NA\\\\\n",
       "\\end{tabular}\n"
      ],
      "text/markdown": [
       "\n",
       "A data.frame: 4 × 2\n",
       "\n",
       "| <!--/--> | timestamp &lt;dttm&gt; | kw &lt;dbl&gt; |\n",
       "|---|---|---|\n",
       "| 1995 | 2018-03-25 02:00:00 | NA |\n",
       "| 10899 | 2019-03-31 02:00:00 | NA |\n",
       "| 19635 | 2020-03-29 02:00:00 | NA |\n",
       "| 28371 | 2021-03-28 02:00:00 | NA |\n",
       "\n"
      ],
      "text/plain": [
       "      timestamp           kw\n",
       "1995  2018-03-25 02:00:00 NA\n",
       "10899 2019-03-31 02:00:00 NA\n",
       "19635 2020-03-29 02:00:00 NA\n",
       "28371 2021-03-28 02:00:00 NA"
      ]
     },
     "metadata": {},
     "output_type": "display_data"
    },
    {
     "data": {
      "text/html": [
       "<table class=\"dataframe\">\n",
       "<caption>A data.frame: 9 × 2</caption>\n",
       "<thead>\n",
       "\t<tr><th></th><th scope=col>timestamp</th><th scope=col>kw</th></tr>\n",
       "\t<tr><th></th><th scope=col>&lt;dttm&gt;</th><th scope=col>&lt;dbl&gt;</th></tr>\n",
       "</thead>\n",
       "<tbody>\n",
       "\t<tr><th scope=row>4275</th><td>2010-03-28 02:00:00</td><td>NA</td></tr>\n",
       "\t<tr><th scope=row>13011</th><td>2011-03-27 02:00:00</td><td>NA</td></tr>\n",
       "\t<tr><th scope=row>21747</th><td>2012-03-25 02:00:00</td><td>NA</td></tr>\n",
       "\t<tr><th scope=row>30651</th><td>2013-03-31 02:00:00</td><td>NA</td></tr>\n",
       "\t<tr><th scope=row>39387</th><td>2014-03-30 02:00:00</td><td>NA</td></tr>\n",
       "\t<tr><th scope=row>45819</th><td>2018-03-25 02:00:00</td><td>NA</td></tr>\n",
       "\t<tr><th scope=row>54723</th><td>2019-03-31 02:00:00</td><td>NA</td></tr>\n",
       "\t<tr><th scope=row>63459</th><td>2020-03-29 02:00:00</td><td>NA</td></tr>\n",
       "\t<tr><th scope=row>72195</th><td>2021-03-28 02:00:00</td><td>NA</td></tr>\n",
       "</tbody>\n",
       "</table>\n"
      ],
      "text/latex": [
       "A data.frame: 9 × 2\n",
       "\\begin{tabular}{r|ll}\n",
       "  & timestamp & kw\\\\\n",
       "  & <dttm> & <dbl>\\\\\n",
       "\\hline\n",
       "\t4275 & 2010-03-28 02:00:00 & NA\\\\\n",
       "\t13011 & 2011-03-27 02:00:00 & NA\\\\\n",
       "\t21747 & 2012-03-25 02:00:00 & NA\\\\\n",
       "\t30651 & 2013-03-31 02:00:00 & NA\\\\\n",
       "\t39387 & 2014-03-30 02:00:00 & NA\\\\\n",
       "\t45819 & 2018-03-25 02:00:00 & NA\\\\\n",
       "\t54723 & 2019-03-31 02:00:00 & NA\\\\\n",
       "\t63459 & 2020-03-29 02:00:00 & NA\\\\\n",
       "\t72195 & 2021-03-28 02:00:00 & NA\\\\\n",
       "\\end{tabular}\n"
      ],
      "text/markdown": [
       "\n",
       "A data.frame: 9 × 2\n",
       "\n",
       "| <!--/--> | timestamp &lt;dttm&gt; | kw &lt;dbl&gt; |\n",
       "|---|---|---|\n",
       "| 4275 | 2010-03-28 02:00:00 | NA |\n",
       "| 13011 | 2011-03-27 02:00:00 | NA |\n",
       "| 21747 | 2012-03-25 02:00:00 | NA |\n",
       "| 30651 | 2013-03-31 02:00:00 | NA |\n",
       "| 39387 | 2014-03-30 02:00:00 | NA |\n",
       "| 45819 | 2018-03-25 02:00:00 | NA |\n",
       "| 54723 | 2019-03-31 02:00:00 | NA |\n",
       "| 63459 | 2020-03-29 02:00:00 | NA |\n",
       "| 72195 | 2021-03-28 02:00:00 | NA |\n",
       "\n"
      ],
      "text/plain": [
       "      timestamp           kw\n",
       "4275  2010-03-28 02:00:00 NA\n",
       "13011 2011-03-27 02:00:00 NA\n",
       "21747 2012-03-25 02:00:00 NA\n",
       "30651 2013-03-31 02:00:00 NA\n",
       "39387 2014-03-30 02:00:00 NA\n",
       "45819 2018-03-25 02:00:00 NA\n",
       "54723 2019-03-31 02:00:00 NA\n",
       "63459 2020-03-29 02:00:00 NA\n",
       "72195 2021-03-28 02:00:00 NA"
      ]
     },
     "metadata": {},
     "output_type": "display_data"
    }
   ],
   "source": [
    "# Check Null Values\n",
    "mm_kw[is.na(mm_kw$kw),]\n",
    "pm_kw[is.na(pm_kw$kw),]\n",
    "tm_kw[is.na(tm_kw$kw),]"
   ]
  },
  {
   "cell_type": "code",
   "execution_count": 5,
   "id": "307a8537",
   "metadata": {},
   "outputs": [],
   "source": [
    "#Aufgrund der Zeitumstellung gibt es NA-Values -> werden aus dem Dataframe entfernt\n",
    "mm_kw <- mm_kw[!is.na(mm_kw$kw), ]\n",
    "pm_kw <- pm_kw[!is.na(pm_kw$kw), ]\n",
    "tm_kw <- tm_kw[!is.na(tm_kw$kw), ]"
   ]
  },
  {
   "cell_type": "code",
   "execution_count": 6,
   "id": "d6b00236",
   "metadata": {},
   "outputs": [],
   "source": [
    "# Change index\n",
    "rownames(mm_kw) <- mm_kw$timestamp\n",
    "rownames(pm_kw) <- pm_kw$timestamp\n",
    "rownames(tm_kw) <- tm_kw$timestamp"
   ]
  },
  {
   "cell_type": "code",
   "execution_count": null,
   "id": "36663ece",
   "metadata": {},
   "outputs": [],
   "source": [
    "# Visualise Timeseries\n",
    "pm_p1 <- pm_kw %>%\n",
    "  ggplot(aes(x = timestamp, y = kw)) +\n",
    "  geom_line(color = \"#0099FF\", size=0.1) + \n",
    "  scale_y_continuous() +\n",
    "  labs(title = \"Plochmühle kw\", y = \"kw\", x = \"date\") \n",
    "\n",
    "embed_notebook(ggplotly(pm_p1))"
   ]
  },
  {
   "cell_type": "code",
   "execution_count": null,
   "id": "aa044665",
   "metadata": {},
   "outputs": [],
   "source": [
    "## Reframing Timeseries\n",
    "#mm_kw <- mm_kw %>% filter(timestamp >= \"2010-07-01 00:00:00\")\n",
    "pm_kw <- pm_kw %>% filter(timestamp >= \"2019-03-01 00:00:00\")\n",
    "#tm_kw <- tm_kw %>% filter(timestamp >= \"2019-03-01 00:00:00\")\n",
    "\n",
    "time_index <- seq(from = as.POSIXct(\"2019-03-01 03:00\"), \n",
    "                  to = as.POSIXct(\"2021-08-31 23:00\"), by = \"hour\")\n",
    "pm_kw$timestamp <- time_index\n",
    "rownames(pm_kw) <- pm_kw$timestamp"
   ]
  },
  {
   "cell_type": "code",
   "execution_count": null,
   "id": "62d9d65b",
   "metadata": {},
   "outputs": [],
   "source": [
    "# Generate Daily Data\n",
    "pm_kw_d <- pm_kw %>% mutate(timestamp = floor_date(timestamp, unit = \"day\")) %>% \n",
    "  group_by(timestamp) %>% summarise(kw = sum(kw))"
   ]
  },
  {
   "cell_type": "code",
   "execution_count": null,
   "id": "3f9d5f23",
   "metadata": {},
   "outputs": [],
   "source": [
    "a <- pm_kw_d %>% \n",
    "  plot_time_series(timestamp, kw,\n",
    "                   .interactive = TRUE,\n",
    "                   .plotly_slider = TRUE)\n",
    "embed_notebook(a)"
   ]
  },
  {
   "cell_type": "code",
   "execution_count": null,
   "id": "f38aef85",
   "metadata": {},
   "outputs": [],
   "source": [
    "# Generate Timeseries object\n",
    "\n",
    "#hourly tk_ts\n",
    "ts_h_train <- pm_kw %>%\n",
    "    filter(timestamp < \"2021-08-01\") \n",
    "\n",
    "ts_h_test <- pm_kw %>%\n",
    "    filter(timestamp >= \"2021-08-01\")\n",
    "\n",
    "\n",
    "ts_h <- tk_ts(pm_kw, freq=24, start= c(2013, 1,1))\n",
    "ts_h_train <- tk_ts(ts_h_train, freq=24, start = c(2013, 1,1))\n",
    "ts_h_test <- tk_ts(ts_h_test, freq=24)"
   ]
  },
  {
   "cell_type": "code",
   "execution_count": null,
   "id": "046ffe70",
   "metadata": {},
   "outputs": [],
   "source": [
    "#daily tk_ts\n",
    "ts_d_train <- pm_kw_d %>%\n",
    "    filter(timestamp < \"2021-08-01\") \n",
    "\n",
    "ts_d_test <- pm_kw_d %>%\n",
    "    filter(timestamp >= \"2021-08-01\")\n",
    "\n",
    "ts_d <- tk_ts(pm_kw_d, freq=365, start = c(2013, 1,1))\n",
    "ts_d_train <- tk_ts(ts_d_train, freq=365, start = c(2013, 1,1))\n",
    "ts_d_test <- tk_ts(ts_d_test, freq=365)"
   ]
  },
  {
   "cell_type": "code",
   "execution_count": null,
   "id": "41c85633",
   "metadata": {},
   "outputs": [],
   "source": [
    "b <- pm_kw_d %>%\n",
    "    plot_stl_diagnostics(timestamp, kw, \n",
    "                         .frequency = \"auto\", .trend = \"auto\",\n",
    "                         .interactive = TRUE)\n",
    "embed_notebook(b)"
   ]
  },
  {
   "cell_type": "code",
   "execution_count": null,
   "id": "31cce5d9",
   "metadata": {},
   "outputs": [],
   "source": [
    "c <- pm_kw_d %>%\n",
    "    plot_seasonal_diagnostics(timestamp, kw, .interactive = TRUE)\n",
    "embed_notebook(c)"
   ]
  },
  {
   "cell_type": "code",
   "execution_count": null,
   "id": "469ac3c3",
   "metadata": {},
   "outputs": [],
   "source": [
    "tk_index(ts_h_test, timetk_idx = TRUE) "
   ]
  },
  {
   "cell_type": "code",
   "execution_count": null,
   "id": "66eaa75b",
   "metadata": {},
   "outputs": [],
   "source": [
    "# Autocorrelation\n",
    "acf2(ts_d)\n",
    "acf2(ts_d, max.lag = 730)"
   ]
  },
  {
   "cell_type": "code",
   "execution_count": null,
   "id": "0ba5a446",
   "metadata": {},
   "outputs": [],
   "source": [
    "# stationary test\n",
    "adf.test(ts_d)\n",
    "adf.test(ts_h)"
   ]
  },
  {
   "cell_type": "code",
   "execution_count": null,
   "id": "da86c0d4",
   "metadata": {},
   "outputs": [],
   "source": [
    "#Fit Arima\n",
    "fit_arima_1 <- auto.arima(ts_d_train, seasonal = TRUE, trace = TRUE)\n",
    "print(summary(fit_arima_1))\n",
    "checkresiduals(fit_arima_1)\n",
    "#autoplot(fit_arima_1)\n",
    "\n",
    "\n",
    "fcast_1 <- forecast(fit_arima_1, h = 31)\n",
    "autoplot(fcast_1)\n",
    "par(new=TRUE)\n",
    "plot(ts_d_train)\n",
    "print(summary(fcast_1))\n",
    "print(fcast_1)\n",
    "\n",
    "#accuracy(fcast, ts_d_test)"
   ]
  },
  {
   "cell_type": "code",
   "execution_count": null,
   "id": "34f71fb8",
   "metadata": {},
   "outputs": [],
   "source": [
    "sw_sweep(fcast_1) %>%\n",
    "    ggplot(aes(x = index, y = kw, color = key)) +\n",
    "    geom_ribbon(aes(ymin = lo.95, ymax = hi.95), \n",
    "                fill = \"#D5DBFF\", color = NA, size = 0) +\n",
    "    geom_ribbon(aes(ymin = lo.80, ymax = hi.80, fill = key), \n",
    "                fill = \"#596DD5\", color = NA, size = 0, alpha = 0.8) +\n",
    "    geom_line(size = 1) +\n",
    "    labs(title = \"Plochmühle Daily Forecast\", x = \"datetime\", y = \"kwH\") +\n",
    "    scale_y_continuous()"
   ]
  },
  {
   "cell_type": "code",
   "execution_count": null,
   "id": "fa0cf939",
   "metadata": {},
   "outputs": [],
   "source": [
    "sw_sweep(fcast_1, timetk_idx = TRUE) %>%\n",
    "    tail(40)"
   ]
  },
  {
   "cell_type": "code",
   "execution_count": null,
   "id": "18bea90f",
   "metadata": {},
   "outputs": [],
   "source": [
    "fc1 <- sw_sweep(fcast_1, timetk_idx = TRUE) %>% plyr::rename(c(\"kw\" = \"prediction_sarima\")) %>% filter(key == \"forecast\") %>% select(-key) \n",
    "pm_arima_day <- left_join(pm_kw_d, fc1,by = c(\"timestamp\" = \"index\"))\n",
    "write.csv(pm_arima_day,file.path(forecast, \"pm_arima_d_1.csv\"), row.names=FALSE)"
   ]
  },
  {
   "cell_type": "code",
   "execution_count": null,
   "id": "0a1c79ca",
   "metadata": {},
   "outputs": [],
   "source": [
    "#Fit Arima force Seasonal\n",
    "fit_arima_2 <- auto.arima(ts_d_train, D=1, trace = TRUE)\n",
    "print(summary(fit_arima_2))\n",
    "checkresiduals(fit_arima_2)\n",
    "\n",
    "fcast_2 <- forecast(fit_arima_2, h = 31)\n",
    "autoplot(fcast_2)\n",
    "par(new=TRUE)\n",
    "plot(ts_d)\n",
    "print(summary(fcast_2))\n",
    "print(fcast_2)"
   ]
  },
  {
   "cell_type": "code",
   "execution_count": null,
   "id": "212b4062",
   "metadata": {},
   "outputs": [],
   "source": [
    "sw_sweep(fcast_2) %>%\n",
    "    ggplot(aes(x = index, y = kw, color = key)) +\n",
    "    geom_ribbon(aes(ymin = lo.95, ymax = hi.95), \n",
    "                fill = \"#D5DBFF\", color = NA, size = 0) +\n",
    "    geom_ribbon(aes(ymin = lo.80, ymax = hi.80, fill = key), \n",
    "                fill = \"#596DD5\", color = NA, size = 0, alpha = 0.8) +\n",
    "    geom_line(size = 1) +\n",
    "    labs(title = \"Plochmühle Daily Forecast\", x = \"datetime\", y = \"kwH\") +\n",
    "    scale_y_continuous()"
   ]
  },
  {
   "cell_type": "code",
   "execution_count": null,
   "id": "09ee6413",
   "metadata": {},
   "outputs": [],
   "source": [
    "sw_sweep(fcast_2, timetk_idx = TRUE) %>%\n",
    "    tail(40)"
   ]
  },
  {
   "cell_type": "code",
   "execution_count": null,
   "id": "76a05780",
   "metadata": {},
   "outputs": [],
   "source": [
    "fc2 <- sw_sweep(fcast_2, timetk_idx = TRUE) %>% plyr::rename(c(\"kw\" = \"prediction_sarima\")) %>% filter(key == \"forecast\") %>% select(-key) \n",
    "pm_arima_day <- left_join(pm_kw_d, fc2,by = c(\"timestamp\" = \"index\"))\n",
    "write.csv(pm_arima_day,file.path(forecast, \"pm_arima_d_2.csv\"), row.names=FALSE)"
   ]
  },
  {
   "cell_type": "code",
   "execution_count": null,
   "id": "685bacb0",
   "metadata": {},
   "outputs": [],
   "source": [
    "# hourly\n",
    "fit_arima_3 <- auto.arima(ts_h_train, seasonal = TRUE, trace = TRUE)\n",
    "print(summary(fit_arima_3))\n",
    "checkresiduals(fit_arima_3)\n",
    "\n",
    "fcast_3 <- forecast(fit_arima_3, h = 744)\n",
    "autoplot(fcast_3)\n",
    "par(new=TRUE)\n",
    "plot(ts_h)\n",
    "print(summary(fcast_3))\n",
    "print(fcast_3)"
   ]
  },
  {
   "cell_type": "code",
   "execution_count": null,
   "id": "f9b0264f",
   "metadata": {},
   "outputs": [],
   "source": [
    "sw_sweep(fcast_3) %>%\n",
    "    ggplot(aes(x = index, y = kw, color = key)) +\n",
    "    geom_ribbon(aes(ymin = lo.95, ymax = hi.95), \n",
    "                fill = \"#D5DBFF\", color = NA, size = 0) +\n",
    "    geom_ribbon(aes(ymin = lo.80, ymax = hi.80, fill = key), \n",
    "                fill = \"#596DD5\", color = NA, size = 0, alpha = 0.8) +\n",
    "    geom_line(size = 1) +\n",
    "    labs(title = \"Plochmühle Daily Forecast\", x = \"datetime\", y = \"kwH\") +\n",
    "    scale_y_continuous()"
   ]
  },
  {
   "cell_type": "code",
   "execution_count": null,
   "id": "dffd8af4",
   "metadata": {},
   "outputs": [],
   "source": [
    "sw_sweep(fcast_3, timetk_idx = TRUE) %>%\n",
    "    tail(800)"
   ]
  },
  {
   "cell_type": "code",
   "execution_count": null,
   "id": "742c9011",
   "metadata": {},
   "outputs": [],
   "source": [
    "fc3 <- sw_sweep(fcast_3, timetk_idx = TRUE) %>% plyr::rename(c(\"kw\" = \"prediction_sarima\")) %>% filter(key == \"forecast\") %>% select(-key) \n",
    "pm_arima_hour <- left_join(pm_kw, fc3,by = c(\"timestamp\" = \"index\"))\n",
    "write.csv(pm_arima_hour,file.path(forecast, \"pm_arima_h_1.csv\"), row.names=FALSE)"
   ]
  },
  {
   "cell_type": "code",
   "execution_count": null,
   "id": "bcd35df0",
   "metadata": {},
   "outputs": [],
   "source": [
    "# hourly\n",
    "fit_arima_4 <- auto.arima(ts_h_train, D = TRUE, trace = TRUE)\n",
    "print(summary(fit_arima_3))\n",
    "checkresiduals(fit_arima_3)\n",
    "\n",
    "fcast_4 <- forecast(fit_arima_4, h = 744)\n",
    "autoplot(fcast_4)\n",
    "par(new=TRUE)\n",
    "plot(ts_h)\n",
    "print(summary(fcast_4))\n",
    "print(fcast_4)"
   ]
  },
  {
   "cell_type": "code",
   "execution_count": null,
   "id": "7dadb831",
   "metadata": {},
   "outputs": [],
   "source": [
    "sw_sweep(fcast_4) %>%\n",
    "    ggplot(aes(x = index, y = kw, color = key)) +\n",
    "    geom_ribbon(aes(ymin = lo.95, ymax = hi.95), \n",
    "                fill = \"#D5DBFF\", color = NA, size = 0) +\n",
    "    geom_ribbon(aes(ymin = lo.80, ymax = hi.80, fill = key), \n",
    "                fill = \"#596DD5\", color = NA, size = 0, alpha = 0.8) +\n",
    "    geom_line(size = 1) +\n",
    "    labs(title = \"Plochmühle Daily Forecast\", x = \"datetime\", y = \"kwH\") +\n",
    "    scale_y_continuous()"
   ]
  },
  {
   "cell_type": "code",
   "execution_count": null,
   "id": "4d1959c3",
   "metadata": {},
   "outputs": [],
   "source": [
    "sw_sweep(fcast_4, timetk_idx = TRUE) %>%\n",
    "    tail(800)"
   ]
  },
  {
   "cell_type": "code",
   "execution_count": null,
   "id": "5e2cc87c",
   "metadata": {},
   "outputs": [],
   "source": [
    "fc4 <- sw_sweep(fcast_4, timetk_idx = TRUE) %>% plyr::rename(c(\"kw\" = \"prediction_sarima\")) %>% filter(key == \"forecast\") %>% select(-key) \n",
    "pm_arima_hour <- left_join(pm_kw, fc4,by = c(\"timestamp\" = \"index\"))\n",
    "write.csv(pm_arima_hour,file.path(forecast, \"pm_arima_h_2.csv\"), row.names=FALSE)"
   ]
  }
 ],
 "metadata": {
  "kernelspec": {
   "display_name": "R",
   "language": "R",
   "name": "ir"
  },
  "language_info": {
   "codemirror_mode": "r",
   "file_extension": ".r",
   "mimetype": "text/x-r-source",
   "name": "R",
   "pygments_lexer": "r",
   "version": "4.1.1"
  }
 },
 "nbformat": 4,
 "nbformat_minor": 5
}
