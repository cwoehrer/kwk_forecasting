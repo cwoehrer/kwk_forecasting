{
 "cells": [
  {
   "cell_type": "code",
   "execution_count": null,
   "id": "91ab8074",
   "metadata": {
    "vscode": {
     "languageId": "r"
    }
   },
   "outputs": [],
   "source": [
    "# Packages\n",
    "list.of.packages <- c(\"rstudioapi\", \"dplyr\", \"astsa\", \"zoo\", \"forecast\", \"ggplot2\", \"plotly\", \"tseries\", \n",
    "                      \"lubridate\", \"TSstudio\", \"sweep\", \"timetk\", \"tidyverse\")\n",
    "new.packages <- list.of.packages[!(list.of.packages %in% installed.packages()[,\"Package\"])]\n",
    "if(length(new.packages)) install.packages(new.packages)"
   ]
  },
  {
   "cell_type": "code",
   "execution_count": null,
   "id": "bc7636ce",
   "metadata": {
    "vscode": {
     "languageId": "r"
    }
   },
   "outputs": [],
   "source": [
    "require(\"rstudioapi\")\n",
    "require(\"dplyr\")\n",
    "require(\"astsa\")\n",
    "require(\"zoo\")\n",
    "require(\"forecast\")\n",
    "require(\"ggplot2\")\n",
    "require(\"plotly\")\n",
    "require(\"tseries\")\n",
    "require(\"lubridate\")\n",
    "require(\"TSstudio\")\n",
    "require(\"xts\")\n",
    "require(\"sweep\")\n",
    "require(\"timetk\")\n",
    "require(\"tidyverse\")"
   ]
  },
  {
   "cell_type": "code",
   "execution_count": null,
   "id": "ae3e46d1",
   "metadata": {
    "vscode": {
     "languageId": "r"
    }
   },
   "outputs": [],
   "source": [
    "#Load folders\n",
    "#lpd <- file.path(\"../Data/Lastprofildaten\")\n",
    "#wasser <- file.path(\"../Data/Wasserdaten\")\n",
    "#wetter <- file.path(\"../Data/Wetterdaten\")\n",
    "output <- file.path(\"../Data/Outputdaten\")\n",
    "forecast <- file.path(\"../Data/Forecast\")\n",
    "\n",
    "#Load dataframes from pickle\n",
    "mm_all <- read.csv2(file.path(output, \"mm_all.csv\"))\n",
    "pm_all <- read.csv2(file.path(output, \"pm_all.csv\"))\n",
    "tm_all <- read.csv2(file.path(output, \"tm_all.csv\"))"
   ]
  },
  {
   "cell_type": "code",
   "execution_count": null,
   "id": "3aa2fe11",
   "metadata": {
    "vscode": {
     "languageId": "r"
    }
   },
   "outputs": [],
   "source": [
    "# Load dataframes only kw data and make type transformations\n",
    "mm_kw <- mm_all[, c('timestamp', 'kw')]\n",
    "pm_kw <- pm_all[, c('timestamp', 'kw')]\n",
    "tm_kw <- tm_all[, c('timestamp', 'kw')]\n",
    "\n",
    "mm_kw$kw <- as.numeric(mm_kw$kw)\n",
    "pm_kw$kw <- as.numeric(pm_kw$kw)\n",
    "tm_kw$kw <- as.numeric(tm_kw$kw)\n",
    "\n",
    "mm_kw$timestamp <- as.POSIXct(mm_kw$timestamp, format = '%Y-%m-%d %H:%M:%S')\n",
    "pm_kw$timestamp <- as.POSIXct(pm_kw$timestamp, format = '%Y-%m-%d %H:%M:%S')\n",
    "tm_kw$timestamp <- as.POSIXct(tm_kw$timestamp, format = '%Y-%m-%d %H:%M:%S')"
   ]
  },
  {
   "cell_type": "code",
   "execution_count": null,
   "id": "6e32e474",
   "metadata": {
    "vscode": {
     "languageId": "r"
    }
   },
   "outputs": [],
   "source": [
    "# Check Null Values\n",
    "mm_kw[is.na(mm_kw$kw),]\n",
    "pm_kw[is.na(pm_kw$kw),]\n",
    "tm_kw[is.na(tm_kw$kw),]"
   ]
  },
  {
   "cell_type": "code",
   "execution_count": null,
   "id": "307a8537",
   "metadata": {
    "vscode": {
     "languageId": "r"
    }
   },
   "outputs": [],
   "source": [
    "#Aufgrund der Zeitumstellung gibt es NA-Values -> werden aus dem Dataframe entfernt\n",
    "mm_kw <- mm_kw[!is.na(mm_kw$kw), ]\n",
    "pm_kw <- pm_kw[!is.na(pm_kw$kw), ]\n",
    "tm_kw <- tm_kw[!is.na(tm_kw$kw), ]"
   ]
  },
  {
   "cell_type": "code",
   "execution_count": null,
   "id": "d6b00236",
   "metadata": {
    "vscode": {
     "languageId": "r"
    }
   },
   "outputs": [],
   "source": [
    "# Change index\n",
    "rownames(mm_kw) <- mm_kw$timestamp\n",
    "rownames(pm_kw) <- pm_kw$timestamp\n",
    "rownames(tm_kw) <- tm_kw$timestamp"
   ]
  },
  {
   "cell_type": "code",
   "execution_count": null,
   "id": "36663ece",
   "metadata": {
    "vscode": {
     "languageId": "r"
    }
   },
   "outputs": [],
   "source": [
    "# Visualise Timeseries\n",
    "tm_p1 <- tm_kw %>%\n",
    "  ggplot(aes(x = timestamp, y = kw)) +\n",
    "  geom_line(color = \"#0099FF\", size=0.1) + \n",
    "  scale_y_continuous() +\n",
    "  labs(title = \"Teufelmühle kw\", y = \"kw\", x = \"date\") \n",
    "\n",
    "embed_notebook(ggplotly(tm_p1))"
   ]
  },
  {
   "cell_type": "code",
   "execution_count": null,
   "id": "aa044665",
   "metadata": {
    "vscode": {
     "languageId": "r"
    }
   },
   "outputs": [],
   "source": [
    "## Reframing Timeseries\n",
    "#mm_kw <- mm_kw %>% filter(timestamp >= \"2010-07-01 00:00:00\")\n",
    "#pm_kw <- pm_kw %>% filter(timestamp >= \"2019-03-01 00:00:00\")\n",
    "#tm_kw <- tm_kw %>% filter(timestamp >= \"2019-03-01 00:00:00\")\n",
    "\n",
    "time_index <- seq(from = as.POSIXct(\"2013-01-01 09:00\"), \n",
    "                  to = as.POSIXct(\"2021-08-31 23:00\"), by = \"hour\")\n",
    "tm_kw$timestamp <- time_index\n",
    "rownames(tm_kw) <- tm_kw$timestamp"
   ]
  },
  {
   "cell_type": "code",
   "execution_count": null,
   "id": "62d9d65b",
   "metadata": {
    "vscode": {
     "languageId": "r"
    }
   },
   "outputs": [],
   "source": [
    "# Generate Daily Data\n",
    "tm_kw_d <- tm_kw %>% mutate(timestamp = floor_date(timestamp, unit = \"day\")) %>% \n",
    "  group_by(timestamp) %>% summarise(kw = sum(kw))"
   ]
  },
  {
   "cell_type": "code",
   "execution_count": null,
   "id": "3f9d5f23",
   "metadata": {
    "vscode": {
     "languageId": "r"
    }
   },
   "outputs": [],
   "source": [
    "a <- tm_kw_d %>% \n",
    "  plot_time_series(timestamp, kw,\n",
    "                   .interactive = TRUE,\n",
    "                   .plotly_slider = TRUE)\n",
    "embed_notebook(a)"
   ]
  },
  {
   "cell_type": "code",
   "execution_count": null,
   "id": "f38aef85",
   "metadata": {
    "vscode": {
     "languageId": "r"
    }
   },
   "outputs": [],
   "source": [
    "# Generate Timeseries object\n",
    "\n",
    "#hourly tk_ts\n",
    "ts_h_train <- tm_kw %>%\n",
    "    filter(timestamp < \"2021-08-01\") \n",
    "\n",
    "ts_h_test <- tm_kw %>%\n",
    "    filter(timestamp >= \"2021-08-01\")\n",
    "\n",
    "\n",
    "ts_h <- tk_ts(tm_kw, freq=24, start= c(2013, 1,1))\n",
    "ts_h_train <- tk_ts(ts_h_train, freq=24, start = c(2013, 1,1))\n",
    "ts_h_test <- tk_ts(ts_h_test, freq=24)"
   ]
  },
  {
   "cell_type": "code",
   "execution_count": null,
   "id": "046ffe70",
   "metadata": {
    "vscode": {
     "languageId": "r"
    }
   },
   "outputs": [],
   "source": [
    "#daily tk_ts\n",
    "ts_d_train <- tm_kw_d %>%\n",
    "    filter(timestamp < \"2021-08-01\") \n",
    "\n",
    "ts_d_test <- tm_kw_d %>%\n",
    "    filter(timestamp >= \"2021-08-01\")\n",
    "\n",
    "ts_d <- tk_ts(tm_kw_d, freq=365, start = c(2013, 1,1))\n",
    "ts_d_train <- tk_ts(ts_d_train, freq=365, start = c(2013, 1,1))\n",
    "ts_d_test <- tk_ts(ts_d_test, freq=365)"
   ]
  },
  {
   "cell_type": "code",
   "execution_count": null,
   "id": "41c85633",
   "metadata": {
    "vscode": {
     "languageId": "r"
    }
   },
   "outputs": [],
   "source": [
    "b <- tm_kw_d %>%\n",
    "    plot_stl_diagnostics(timestamp, kw, \n",
    "                         .frequency = \"auto\", .trend = \"auto\",\n",
    "                         .interactive = TRUE)\n",
    "embed_notebook(b)"
   ]
  },
  {
   "cell_type": "code",
   "execution_count": null,
   "id": "31cce5d9",
   "metadata": {
    "vscode": {
     "languageId": "r"
    }
   },
   "outputs": [],
   "source": [
    "c <- tm_kw_d %>%\n",
    "    plot_seasonal_diagnostics(timestamp, kw, .interactive = TRUE)\n",
    "embed_notebook(c)"
   ]
  },
  {
   "cell_type": "code",
   "execution_count": null,
   "id": "469ac3c3",
   "metadata": {
    "vscode": {
     "languageId": "r"
    }
   },
   "outputs": [],
   "source": [
    "tk_index(ts_h_test, timetk_idx = TRUE) "
   ]
  },
  {
   "cell_type": "code",
   "execution_count": null,
   "id": "66eaa75b",
   "metadata": {
    "vscode": {
     "languageId": "r"
    }
   },
   "outputs": [],
   "source": [
    "# Autocorrelation\n",
    "acf2(ts_d)\n",
    "acf2(ts_d, max.lag = 730)"
   ]
  },
  {
   "cell_type": "code",
   "execution_count": null,
   "id": "0ba5a446",
   "metadata": {
    "vscode": {
     "languageId": "r"
    }
   },
   "outputs": [],
   "source": [
    "# stationary test\n",
    "adf.test(ts_d)\n",
    "adf.test(ts_h)"
   ]
  },
  {
   "cell_type": "code",
   "execution_count": null,
   "id": "da86c0d4",
   "metadata": {
    "vscode": {
     "languageId": "r"
    }
   },
   "outputs": [],
   "source": [
    "#Fit Arima\n",
    "fit_arima_1 <- auto.arima(ts_d_train, seasonal = TRUE, trace = TRUE)\n",
    "print(summary(fit_arima_1))\n",
    "checkresiduals(fit_arima_1)\n",
    "#autoplot(fit_arima_1)\n",
    "\n",
    "\n",
    "fcast_1 <- forecast(fit_arima_1, h = 31)\n",
    "autoplot(fcast_1)\n",
    "par(new=TRUE)\n",
    "plot(ts_d_train)\n",
    "print(summary(fcast_1))\n",
    "print(fcast_1)\n",
    "\n",
    "#accuracy(fcast, ts_d_test)"
   ]
  },
  {
   "cell_type": "code",
   "execution_count": null,
   "id": "34f71fb8",
   "metadata": {
    "vscode": {
     "languageId": "r"
    }
   },
   "outputs": [],
   "source": [
    "sw_sweep(fcast_1) %>%\n",
    "    ggplot(aes(x = index, y = kw, color = key)) +\n",
    "    geom_ribbon(aes(ymin = lo.95, ymax = hi.95), \n",
    "                fill = \"#D5DBFF\", color = NA, size = 0) +\n",
    "    geom_ribbon(aes(ymin = lo.80, ymax = hi.80, fill = key), \n",
    "                fill = \"#596DD5\", color = NA, size = 0, alpha = 0.8) +\n",
    "    geom_line(size = 1) +\n",
    "    labs(title = \"Teufelmühle Daily Forecast\", x = \"datetime\", y = \"kwH\") +\n",
    "    scale_y_continuous()"
   ]
  },
  {
   "cell_type": "code",
   "execution_count": null,
   "id": "fa0cf939",
   "metadata": {
    "vscode": {
     "languageId": "r"
    }
   },
   "outputs": [],
   "source": [
    "sw_sweep(fcast_1, timetk_idx = TRUE) %>%\n",
    "    tail(40)"
   ]
  },
  {
   "cell_type": "code",
   "execution_count": null,
   "id": "18bea90f",
   "metadata": {
    "vscode": {
     "languageId": "r"
    }
   },
   "outputs": [],
   "source": [
    "fc1 <- sw_sweep(fcast_1, timetk_idx = TRUE) %>% plyr::rename(c(\"kw\" = \"prediction_sarima\")) %>% filter(key == \"forecast\") %>% select(-key) \n",
    "tm_arima_day <- left_join(tm_kw_d, fc1,by = c(\"timestamp\" = \"index\"))\n",
    "write.csv(tm_arima_day,file.path(forecast, \"tm_arima_d_1.csv\"), row.names=FALSE)"
   ]
  },
  {
   "cell_type": "code",
   "execution_count": null,
   "id": "0a1c79ca",
   "metadata": {
    "vscode": {
     "languageId": "r"
    }
   },
   "outputs": [],
   "source": [
    "#Fit Arima force Seasonal\n",
    "fit_arima_2 <- auto.arima(ts_d_train, D=1, trace = TRUE)\n",
    "print(summary(fit_arima_2))\n",
    "checkresiduals(fit_arima_2)\n",
    "\n",
    "fcast_2 <- forecast(fit_arima_2, h = 31)\n",
    "autoplot(fcast_2)\n",
    "par(new=TRUE)\n",
    "plot(ts_d)\n",
    "print(summary(fcast_2))\n",
    "print(fcast_2)"
   ]
  },
  {
   "cell_type": "code",
   "execution_count": null,
   "id": "212b4062",
   "metadata": {
    "vscode": {
     "languageId": "r"
    }
   },
   "outputs": [],
   "source": [
    "sw_sweep(fcast_2) %>%\n",
    "    ggplot(aes(x = index, y = kw, color = key)) +\n",
    "    geom_ribbon(aes(ymin = lo.95, ymax = hi.95), \n",
    "                fill = \"#D5DBFF\", color = NA, size = 0) +\n",
    "    geom_ribbon(aes(ymin = lo.80, ymax = hi.80, fill = key), \n",
    "                fill = \"#596DD5\", color = NA, size = 0, alpha = 0.8) +\n",
    "    geom_line(size = 1) +\n",
    "    labs(title = \"Teufelmühle Daily Forecast\", x = \"datetime\", y = \"kwH\") +\n",
    "    scale_y_continuous()"
   ]
  },
  {
   "cell_type": "code",
   "execution_count": null,
   "id": "09ee6413",
   "metadata": {
    "vscode": {
     "languageId": "r"
    }
   },
   "outputs": [],
   "source": [
    "sw_sweep(fcast_2, timetk_idx = TRUE) %>%\n",
    "    tail(40)"
   ]
  },
  {
   "cell_type": "code",
   "execution_count": null,
   "id": "76a05780",
   "metadata": {
    "vscode": {
     "languageId": "r"
    }
   },
   "outputs": [],
   "source": [
    "fc2 <- sw_sweep(fcast_2, timetk_idx = TRUE) %>% plyr::rename(c(\"kw\" = \"prediction_sarima\")) %>% filter(key == \"forecast\") %>% select(-key) \n",
    "tm_arima_day <- left_join(tm_kw_d, fc2,by = c(\"timestamp\" = \"index\"))\n",
    "write.csv(tm_arima_day,file.path(forecast, \"tm_arima_d_2.csv\"), row.names=FALSE)"
   ]
  },
  {
   "cell_type": "code",
   "execution_count": null,
   "id": "685bacb0",
   "metadata": {
    "vscode": {
     "languageId": "r"
    }
   },
   "outputs": [],
   "source": [
    "# hourly\n",
    "fit_arima_3 <- auto.arima(ts_h_train, seasonal = TRUE, trace = TRUE)\n",
    "print(summary(fit_arima_3))\n",
    "checkresiduals(fit_arima_3)\n",
    "\n",
    "fcast_3 <- forecast(fit_arima_3, h = 744)\n",
    "autoplot(fcast_3)\n",
    "par(new=TRUE)\n",
    "plot(ts_h)\n",
    "print(summary(fcast_3))\n",
    "print(fcast_3)"
   ]
  },
  {
   "cell_type": "code",
   "execution_count": null,
   "id": "f9b0264f",
   "metadata": {
    "vscode": {
     "languageId": "r"
    }
   },
   "outputs": [],
   "source": [
    "sw_sweep(fcast_3) %>%\n",
    "    ggplot(aes(x = index, y = kw, color = key)) +\n",
    "    geom_ribbon(aes(ymin = lo.95, ymax = hi.95), \n",
    "                fill = \"#D5DBFF\", color = NA, size = 0) +\n",
    "    geom_ribbon(aes(ymin = lo.80, ymax = hi.80, fill = key), \n",
    "                fill = \"#596DD5\", color = NA, size = 0, alpha = 0.8) +\n",
    "    geom_line(size = 1) +\n",
    "    labs(title = \"Teufelmühle Daily Forecast\", x = \"datetime\", y = \"kwH\") +\n",
    "    scale_y_continuous()"
   ]
  },
  {
   "cell_type": "code",
   "execution_count": null,
   "id": "dffd8af4",
   "metadata": {
    "vscode": {
     "languageId": "r"
    }
   },
   "outputs": [],
   "source": [
    "sw_sweep(fcast_3, timetk_idx = TRUE) %>%\n",
    "    tail(800)"
   ]
  },
  {
   "cell_type": "code",
   "execution_count": null,
   "id": "742c9011",
   "metadata": {
    "vscode": {
     "languageId": "r"
    }
   },
   "outputs": [],
   "source": [
    "fc3 <- sw_sweep(fcast_3, timetk_idx = TRUE) %>% plyr::rename(c(\"kw\" = \"prediction_sarima\")) %>% filter(key == \"forecast\") %>% select(-key) \n",
    "tm_arima_hour <- left_join(tm_kw, fc3,by = c(\"timestamp\" = \"index\"))\n",
    "write.csv(tm_arima_hour,file.path(forecast, \"tm_arima_h_1.csv\"), row.names=FALSE)"
   ]
  },
  {
   "cell_type": "code",
   "execution_count": null,
   "id": "f402f38b",
   "metadata": {
    "vscode": {
     "languageId": "r"
    }
   },
   "outputs": [],
   "source": [
    "# hourly\n",
    "fit_arima_4 <- auto.arima(ts_h_train, D = TRUE, trace = TRUE)\n",
    "print(summary(fit_arima_3))\n",
    "checkresiduals(fit_arima_3)\n",
    "\n",
    "fcast_4 <- forecast(fit_arima_4, h = 744)\n",
    "autoplot(fcast_4)\n",
    "par(new=TRUE)\n",
    "plot(ts_h)\n",
    "print(summary(fcast_4))\n",
    "print(fcast_4)"
   ]
  },
  {
   "cell_type": "code",
   "execution_count": null,
   "id": "24af3d79",
   "metadata": {
    "vscode": {
     "languageId": "r"
    }
   },
   "outputs": [],
   "source": [
    "sw_sweep(fcast_4) %>%\n",
    "    ggplot(aes(x = index, y = kw, color = key)) +\n",
    "    geom_ribbon(aes(ymin = lo.95, ymax = hi.95), \n",
    "                fill = \"#D5DBFF\", color = NA, size = 0) +\n",
    "    geom_ribbon(aes(ymin = lo.80, ymax = hi.80, fill = key), \n",
    "                fill = \"#596DD5\", color = NA, size = 0, alpha = 0.8) +\n",
    "    geom_line(size = 1) +\n",
    "    labs(title = \"Teufelmühle Daily Forecast\", x = \"datetime\", y = \"kwH\") +\n",
    "    scale_y_continuous()"
   ]
  },
  {
   "cell_type": "code",
   "execution_count": null,
   "id": "d2f6b6ad",
   "metadata": {
    "vscode": {
     "languageId": "r"
    }
   },
   "outputs": [],
   "source": [
    "sw_sweep(fcast_4, timetk_idx = TRUE) %>%\n",
    "    tail(800)"
   ]
  },
  {
   "cell_type": "code",
   "execution_count": null,
   "id": "bb4a8c7d",
   "metadata": {
    "vscode": {
     "languageId": "r"
    }
   },
   "outputs": [],
   "source": [
    "fc4 <- sw_sweep(fcast_4, timetk_idx = TRUE) %>% plyr::rename(c(\"kw\" = \"prediction_sarima\")) %>% filter(key == \"forecast\") %>% select(-key) \n",
    "tm_arima_hour <- left_join(tm_kw, fc4,by = c(\"timestamp\" = \"index\"))\n",
    "write.csv(tm_arima_hour,file.path(forecast, \"tm_arima_h_2.csv\"), row.names=FALSE)"
   ]
  }
 ],
 "metadata": {
  "kernelspec": {
   "display_name": "R",
   "language": "R",
   "name": "ir"
  },
  "language_info": {
   "codemirror_mode": "r",
   "file_extension": ".r",
   "mimetype": "text/x-r-source",
   "name": "R",
   "pygments_lexer": "r",
   "version": "4.1.1"
  }
 },
 "nbformat": 4,
 "nbformat_minor": 5
}
